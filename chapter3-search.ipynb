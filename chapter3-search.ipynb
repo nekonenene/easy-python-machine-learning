{
 "cells": [
  {
   "cell_type": "code",
   "execution_count": 1,
   "metadata": {},
   "outputs": [],
   "source": [
    "def book_search(keyword):\n",
    "    results = []\n",
    "    \n",
    "    with open('book_data.tsv', encoding = 'utf-8') as f:\n",
    "        for line in f:\n",
    "            cols = line.split('\\t')\n",
    "            if keyword in cols[0]: # 書名に keyword が含まれていたら追加\n",
    "                results.append(line)\n",
    "    if len(results) > 0:\n",
    "        response = ''.join(results)\n",
    "    else:\n",
    "        response = '書名に「{}」が含まれる書籍が見つかりませんでした'.format(keyword)\n",
    "    \n",
    "    return response"
   ]
  },
  {
   "cell_type": "code",
   "execution_count": 2,
   "metadata": {},
   "outputs": [
    {
     "ename": "SyntaxError",
     "evalue": "invalid syntax (<ipython-input-2-6de3a28cc09c>, line 1)",
     "output_type": "error",
     "traceback": [
      "\u001b[0;36m  File \u001b[0;32m\"<ipython-input-2-6de3a28cc09c>\"\u001b[0;36m, line \u001b[0;32m1\u001b[0m\n\u001b[0;31m    print book_search('いちばんやさしい')\u001b[0m\n\u001b[0m          ^\u001b[0m\n\u001b[0;31mSyntaxError\u001b[0m\u001b[0;31m:\u001b[0m invalid syntax\n"
     ]
    }
   ],
   "source": [
    "print book_search('いちばんやさしい')"
   ]
  },
  {
   "cell_type": "code",
   "execution_count": 3,
   "metadata": {},
   "outputs": [
    {
     "name": "stdout",
     "output_type": "stream",
     "text": [
      "いちばんやさしいPythonの教本 第2版 人気講師が教える基礎からサーバサイド開発まで\t¥2,200＋税\t2020/8/24\t鈴木たかのり　著/株式会社ビープラウド　著\n",
      "\n"
     ]
    }
   ],
   "source": [
    "print(book_search('いちばんやさしい'))"
   ]
  },
  {
   "cell_type": "code",
   "execution_count": 4,
   "metadata": {},
   "outputs": [
    {
     "name": "stdout",
     "output_type": "stream",
     "text": [
      "世界一やさしい エクセル ワード 2019/Microsoft 365対応\t¥680＋税\t2020/9/29\tトップスタジオ　著\n",
      "世界一やさしいZoom\t¥480＋税\t2020/8/31\t松下 典子　著\n",
      "いちばんやさしいPythonの教本 第2版 人気講師が教える基礎からサーバサイド開発まで\t¥2,200＋税\t2020/8/24\t鈴木たかのり　著/株式会社ビープラウド　著\n",
      "世界一やさしいiPhone SE\t¥480＋税\t2020/7/29\tTEKIKAKU　著\n",
      "\n"
     ]
    }
   ],
   "source": [
    "print(book_search('やさしい'))"
   ]
  },
  {
   "cell_type": "code",
   "execution_count": 5,
   "metadata": {},
   "outputs": [
    {
     "name": "stdout",
     "output_type": "stream",
     "text": [
      "書名に「やさしくない」が含まれる書籍が見つかりませんでした\n"
     ]
    }
   ],
   "source": [
    "print(book_search('やさしくない'))"
   ]
  },
  {
   "cell_type": "code",
   "execution_count": null,
   "metadata": {},
   "outputs": [],
   "source": []
  }
 ],
 "metadata": {
  "kernelspec": {
   "display_name": "Python 3",
   "language": "python",
   "name": "python3"
  },
  "language_info": {
   "codemirror_mode": {
    "name": "ipython",
    "version": 3
   },
   "file_extension": ".py",
   "mimetype": "text/x-python",
   "name": "python",
   "nbconvert_exporter": "python",
   "pygments_lexer": "ipython3",
   "version": "3.8.2"
  }
 },
 "nbformat": 4,
 "nbformat_minor": 4
}
