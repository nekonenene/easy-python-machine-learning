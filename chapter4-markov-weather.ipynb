{
 "metadata": {
  "language_info": {
   "codemirror_mode": {
    "name": "ipython",
    "version": 3
   },
   "file_extension": ".py",
   "mimetype": "text/x-python",
   "name": "python",
   "nbconvert_exporter": "python",
   "pygments_lexer": "ipython3",
   "version": 3
  },
  "orig_nbformat": 2,
  "kernelspec": {
   "name": "python_defaultSpec_1596352951844",
   "display_name": "Python 3.8.2 64-bit ('env': venv)"
  }
 },
 "nbformat": 4,
 "nbformat_minor": 2,
 "cells": [
  {
   "cell_type": "code",
   "execution_count": 1,
   "metadata": {},
   "outputs": [],
   "source": [
    "import random"
   ]
  },
  {
   "cell_type": "code",
   "execution_count": 2,
   "metadata": {
    "tags": []
   },
   "outputs": [
    {
     "output_type": "stream",
     "name": "stdout",
     "text": "{'next_weather_types': ['晴れ', '曇り', '雨'], 'weights': [0.6, 0.3, 0.1]}\n['晴れ', '曇り', '雨']\n"
    }
   ],
   "source": [
    "weather_data = {\n",
    "    '晴れ': { 'next_weather_types': ['晴れ', '曇り', '雨'], 'weights': [0.6, 0.3, 0.1] },\n",
    "    '曇り': { 'next_weather_types': ['晴れ', '曇り', '雨'], 'weights': [0.3, 0.5, 0.2] },\n",
    "    '雨': { 'next_weather_types': ['晴れ', '曇り', '雨'], 'weights': [0.2, 0.3, 0.5] },\n",
    "}\n",
    "\n",
    "print(weather_data['晴れ'])\n",
    "print(weather_data['晴れ']['next_weather_types'])"
   ]
  },
  {
   "cell_type": "code",
   "execution_count": 3,
   "metadata": {
    "tags": []
   },
   "outputs": [
    {
     "output_type": "execute_result",
     "data": {
      "text/plain": "['晴れ', '曇り', '曇り', '晴れ', '晴れ', '雨', '晴れ', '雨', '雨', '晴れ', '晴れ']"
     },
     "metadata": {},
     "execution_count": 3
    }
   ],
   "source": [
    "current_weather = '晴れ'\n",
    "markov_weather_list = [current_weather]\n",
    "\n",
    "for i in range(10):\n",
    "    next_weather_type = weather_data[current_weather]['next_weather_types']\n",
    "    weights = weather_data[current_weather]['weights']\n",
    "    current_weather = random.choices(next_weather_type, weights = weights)[0]\n",
    "    markov_weather_list.append(current_weather)\n",
    "\n",
    "markov_weather_list"
   ]
  },
  {
   "cell_type": "code",
   "execution_count": null,
   "metadata": {},
   "outputs": [],
   "source": []
  }
 ]
}