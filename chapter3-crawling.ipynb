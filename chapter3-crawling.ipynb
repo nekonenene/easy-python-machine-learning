{
 "cells": [
  {
   "cell_type": "code",
   "execution_count": 1,
   "metadata": {},
   "outputs": [],
   "source": [
    "import requests\n",
    "from bs4 import BeautifulSoup"
   ]
  },
  {
   "cell_type": "code",
   "execution_count": 2,
   "metadata": {},
   "outputs": [],
   "source": [
    "res = requests.get('https://book.impress.co.jp/booklist/')\n",
    "html_doc = res.text\n",
    "soup = BeautifulSoup(html_doc, 'html.parser')"
   ]
  },
  {
   "cell_type": "code",
   "execution_count": 3,
   "metadata": {},
   "outputs": [],
   "source": [
    "div_book_list = soup.find('div', class_ = 'block-book-list-body')\n",
    "book_urls = []\n",
    "a_tags = div_book_list.find_all('a')\n",
    "\n",
    "for a_tag in a_tags:\n",
    "    if a_tag['href'] not in book_urls:\n",
    "        book_urls.append(a_tag['href'])"
   ]
  },
  {
   "cell_type": "code",
   "execution_count": 4,
   "metadata": {},
   "outputs": [
    {
     "data": {
      "text/plain": [
       "['https://book.impress.co.jp/books/1120102062',\n",
       " 'https://book.impress.co.jp/books/1120501007',\n",
       " 'https://book.impress.co.jp/books/1120101001',\n",
       " 'https://book.impress.co.jp/books/1120101005',\n",
       " 'https://book.impress.co.jp/books/1120101004',\n",
       " 'https://book.impress.co.jp/books/1120101003',\n",
       " 'https://book.impress.co.jp/books/1120101002',\n",
       " 'https://book.impress.co.jp/books/1120101033',\n",
       " 'https://book.impress.co.jp/books/1120101047',\n",
       " 'https://book.impress.co.jp/books/1120102053',\n",
       " 'https://book.impress.co.jp/books/1120101036',\n",
       " 'https://book.impress.co.jp/books/1120101012',\n",
       " 'https://book.impress.co.jp/books/1119101168',\n",
       " 'https://book.impress.co.jp/books/1120101014',\n",
       " 'https://book.impress.co.jp/books/1118101116',\n",
       " 'https://book.impress.co.jp/books/1119101162',\n",
       " 'https://book.impress.co.jp/books/1119101154',\n",
       " 'https://book.impress.co.jp/books/1119101179',\n",
       " 'https://book.impress.co.jp/books/1120501004',\n",
       " 'https://book.impress.co.jp/books/1120110208',\n",
       " 'https://book.impress.co.jp/books/1119101148',\n",
       " 'https://book.impress.co.jp/books/1119101078',\n",
       " 'https://book.impress.co.jp/books/1119102070',\n",
       " 'https://book.impress.co.jp/books/1119101188',\n",
       " 'https://book.impress.co.jp/books/1120101032',\n",
       " 'https://book.impress.co.jp/books/1119101115',\n",
       " 'https://book.impress.co.jp/books/1119101178',\n",
       " 'https://book.impress.co.jp/books/1119101161',\n",
       " 'https://book.impress.co.jp/books/1120110207',\n",
       " 'https://book.impress.co.jp/books/1120501001',\n",
       " 'https://book.impress.co.jp/books/1119101170',\n",
       " 'https://book.impress.co.jp/books/1119101137']"
      ]
     },
     "execution_count": 4,
     "metadata": {},
     "output_type": "execute_result"
    }
   ],
   "source": [
    "book_urls"
   ]
  },
  {
   "cell_type": "code",
   "execution_count": 12,
   "metadata": {},
   "outputs": [],
   "source": [
    "def get_book_info(book_url):\n",
    "    res = requests.get(book_url)\n",
    "    html_doc = res.text\n",
    "    soup = BeautifulSoup(html_doc, 'html.parser')\n",
    "    \n",
    "    div_block_detail = soup.find('div', class_ = 'block-book-detail')\n",
    "    \n",
    "    # 書籍名\n",
    "    book_title = div_block_detail.find('h2')\n",
    "    # 値段\n",
    "    book_price = div_block_detail.find('p', class_ = 'module-book-price')\n",
    "    \n",
    "    # 発売日・著者\n",
    "    book_data = {}\n",
    "    dl_book_data = div_block_detail.find('dl', class_ = 'module-book-data')\n",
    "    for tag in dl_book_data.find_all(['dt', 'dd']):\n",
    "        if tag.name == 'dt':\n",
    "            key = tag.get_text()\n",
    "        if tag.name == 'dd':\n",
    "            book_data[key] = tag.get_text().strip()\n",
    "    \n",
    "    return [\n",
    "        book_title.get_text(),\n",
    "        book_price.get_text(),\n",
    "        book_data['発売日'],\n",
    "        book_data['著者'],\n",
    "    ]"
   ]
  },
  {
   "cell_type": "code",
   "execution_count": 13,
   "metadata": {},
   "outputs": [
    {
     "data": {
      "text/plain": [
       "['いちばんやさしいPython機械学習の教本 人気講師が教える業務で役立つ実践ノウハウ',\n",
       " '¥2,600＋税',\n",
       " '2019/6/21',\n",
       " '鈴木 たかのり\\u3000著/降籏 洋行\\u3000著/株式会社ビープラウド\\u3000著/平井 孝幸\\u3000著']"
      ]
     },
     "execution_count": 13,
     "metadata": {},
     "output_type": "execute_result"
    }
   ],
   "source": [
    "get_book_info('https://book.impress.co.jp/books/1118101072')"
   ]
  },
  {
   "cell_type": "code",
   "execution_count": 14,
   "metadata": {},
   "outputs": [
    {
     "name": "stdout",
     "output_type": "stream",
     "text": [
      "スクレイピング中:  https://book.impress.co.jp/books/1120102062\n",
      "スクレイピング中:  https://book.impress.co.jp/books/1120501007\n",
      "スクレイピング中:  https://book.impress.co.jp/books/1120101001\n",
      "スクレイピング中:  https://book.impress.co.jp/books/1120101005\n",
      "スクレイピング中:  https://book.impress.co.jp/books/1120101004\n",
      "スクレイピング中:  https://book.impress.co.jp/books/1120101003\n",
      "スクレイピング中:  https://book.impress.co.jp/books/1120101002\n",
      "スクレイピング中:  https://book.impress.co.jp/books/1120101033\n",
      "スクレイピング中:  https://book.impress.co.jp/books/1120101047\n",
      "スクレイピング中:  https://book.impress.co.jp/books/1120102053\n",
      "スクレイピング中:  https://book.impress.co.jp/books/1120101036\n",
      "スクレイピング中:  https://book.impress.co.jp/books/1120101012\n",
      "スクレイピング中:  https://book.impress.co.jp/books/1119101168\n",
      "スクレイピング中:  https://book.impress.co.jp/books/1120101014\n",
      "スクレイピング中:  https://book.impress.co.jp/books/1118101116\n",
      "スクレイピング中:  https://book.impress.co.jp/books/1119101162\n",
      "スクレイピング中:  https://book.impress.co.jp/books/1119101154\n",
      "スクレイピング中:  https://book.impress.co.jp/books/1119101179\n",
      "スクレイピング中:  https://book.impress.co.jp/books/1120501004\n",
      "スクレイピング中:  https://book.impress.co.jp/books/1120110208\n",
      "スクレイピング中:  https://book.impress.co.jp/books/1119101148\n",
      "スクレイピング中:  https://book.impress.co.jp/books/1119101078\n",
      "スクレイピング中:  https://book.impress.co.jp/books/1119102070\n",
      "スクレイピング中:  https://book.impress.co.jp/books/1119101188\n",
      "スクレイピング中:  https://book.impress.co.jp/books/1120101032\n",
      "スクレイピング中:  https://book.impress.co.jp/books/1119101115\n",
      "スクレイピング中:  https://book.impress.co.jp/books/1119101178\n",
      "スクレイピング中:  https://book.impress.co.jp/books/1119101161\n",
      "スクレイピング中:  https://book.impress.co.jp/books/1120110207\n",
      "スクレイピング中:  https://book.impress.co.jp/books/1120501001\n",
      "スクレイピング中:  https://book.impress.co.jp/books/1119101170\n",
      "スクレイピング中:  https://book.impress.co.jp/books/1119101137\n",
      "完了\n"
     ]
    }
   ],
   "source": [
    "import time\n",
    "\n",
    "book_info_list = []\n",
    "\n",
    "for book_url in book_urls:\n",
    "    print('スクレイピング中: ', book_url)\n",
    "    book_info_list.append(get_book_info(book_url))\n",
    "    time.sleep(1)\n",
    "\n",
    "print('完了')"
   ]
  },
  {
   "cell_type": "code",
   "execution_count": 15,
   "metadata": {},
   "outputs": [],
   "source": [
    "with open('book_data.tsv', 'w', encoding = 'utf-8') as f:\n",
    "    for book_info in book_info_list:\n",
    "        f.write('\\t'.join(book_info) + '\\n')"
   ]
  },
  {
   "cell_type": "code",
   "execution_count": null,
   "metadata": {},
   "outputs": [],
   "source": []
  }
 ],
 "metadata": {
  "kernelspec": {
   "display_name": "Python 3",
   "language": "python",
   "name": "python3"
  },
  "language_info": {
   "codemirror_mode": {
    "name": "ipython",
    "version": 3
   },
   "file_extension": ".py",
   "mimetype": "text/x-python",
   "name": "python",
   "nbconvert_exporter": "python",
   "pygments_lexer": "ipython3",
   "version": "3.8.2"
  }
 },
 "nbformat": 4,
 "nbformat_minor": 4
}
