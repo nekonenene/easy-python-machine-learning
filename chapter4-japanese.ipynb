{
 "metadata": {
  "language_info": {
   "codemirror_mode": {
    "name": "ipython",
    "version": 3
   },
   "file_extension": ".py",
   "mimetype": "text/x-python",
   "name": "python",
   "nbconvert_exporter": "python",
   "pygments_lexer": "ipython3",
   "version": 3
  },
  "orig_nbformat": 2,
  "kernelspec": {
   "name": "python_defaultSpec_1596348378265",
   "display_name": "Python 3.8.2 64-bit ('env': venv)"
  }
 },
 "nbformat": 4,
 "nbformat_minor": 2,
 "cells": [
  {
   "cell_type": "code",
   "execution_count": 2,
   "metadata": {},
   "outputs": [],
   "source": [
    "from janome.tokenizer import Tokenizer"
   ]
  },
  {
   "cell_type": "code",
   "execution_count": 3,
   "metadata": {},
   "outputs": [
    {
     "output_type": "execute_result",
     "data": {
      "text/plain": "<janome.tokenizer.Tokenizer at 0x10b2488b0>"
     },
     "metadata": {},
     "execution_count": 3
    }
   ],
   "source": [
    "t = Tokenizer()\n",
    "t"
   ]
  },
  {
   "cell_type": "code",
   "execution_count": 4,
   "metadata": {},
   "outputs": [
    {
     "output_type": "execute_result",
     "data": {
      "text/plain": "9"
     },
     "metadata": {},
     "execution_count": 4
    }
   ],
   "source": [
    "text = '東京都でおいしいビールを飲もう。'\n",
    "tokens = t.tokenize(text)\n",
    "len(tokens)"
   ]
  },
  {
   "cell_type": "code",
   "execution_count": 5,
   "metadata": {
    "tags": []
   },
   "outputs": [
    {
     "output_type": "stream",
     "name": "stdout",
     "text": "東京\t名詞,固有名詞,地域,一般,*,*,東京,トウキョウ,トーキョー\n都\t名詞,接尾,地域,*,*,*,都,ト,ト\nで\t助詞,格助詞,一般,*,*,*,で,デ,デ\nおいしい\t形容詞,自立,*,*,形容詞・イ段,基本形,おいしい,オイシイ,オイシイ\nビール\t名詞,一般,*,*,*,*,ビール,ビール,ビール\nを\t助詞,格助詞,一般,*,*,*,を,ヲ,ヲ\n飲も\t動詞,自立,*,*,五段・マ行,未然ウ接続,飲む,ノモ,ノモ\nう\t助動詞,*,*,*,不変化型,基本形,う,ウ,ウ\n。\t記号,句点,*,*,*,*,。,。,。\n"
    }
   ],
   "source": [
    "for token in tokens:\n",
    "    print(token)"
   ]
  },
  {
   "cell_type": "code",
   "execution_count": 7,
   "metadata": {},
   "outputs": [
    {
     "output_type": "execute_result",
     "data": {
      "text/plain": "['東京', '都', 'で', 'おいしい', 'ビール', 'を', '飲も', 'う', '。']"
     },
     "metadata": {},
     "execution_count": 7
    }
   ],
   "source": [
    "t.tokenize(text, wakati = True)"
   ]
  },
  {
   "cell_type": "code",
   "execution_count": 8,
   "metadata": {},
   "outputs": [
    {
     "output_type": "execute_result",
     "data": {
      "text/plain": "[['おいしい', 'ビール', 'を', '飲む'],\n ['コーヒー', 'を', '飲む'],\n ['おいしい', 'クラフト', 'ビール', 'を', '買う']]"
     },
     "metadata": {},
     "execution_count": 8
    }
   ],
   "source": [
    "sentences = [\n",
    "    'おいしいビールを飲む',\n",
    "    'コーヒーを飲む',\n",
    "    'おいしいクラフトビールを買う',\n",
    "]\n",
    "\n",
    "words_list = []\n",
    "for sentence in sentences:\n",
    "    words_list.append(t.tokenize(sentence, wakati = True))\n",
    "\n",
    "words_list"
   ]
  },
  {
   "cell_type": "code",
   "execution_count": 9,
   "metadata": {},
   "outputs": [
    {
     "output_type": "execute_result",
     "data": {
      "text/plain": "['おいしい', 'ビール', 'を', '飲む', 'コーヒー', 'クラフト', '買う']"
     },
     "metadata": {},
     "execution_count": 9
    }
   ],
   "source": [
    "unique_words = []\n",
    "for words in words_list:\n",
    "    for word in words:\n",
    "        if word not in unique_words:\n",
    "            unique_words.append(word)\n",
    "\n",
    "unique_words"
   ]
  },
  {
   "cell_type": "code",
   "execution_count": 10,
   "metadata": {},
   "outputs": [
    {
     "output_type": "execute_result",
     "data": {
      "text/plain": "[[1, 1, 1, 1, 0, 0, 0], [0, 0, 1, 1, 1, 0, 0], [1, 1, 1, 0, 0, 1, 1]]"
     },
     "metadata": {},
     "execution_count": 10
    }
   ],
   "source": [
    "bow_list = [] # bow: Bag of Words\n",
    "for words in words_list:\n",
    "    bag_of_words = []\n",
    "    for unique_word in unique_words:\n",
    "        num = words.count(unique_word)\n",
    "        bag_of_words.append(num)\n",
    "    bow_list.append(bag_of_words)\n",
    "\n",
    "bow_list"
   ]
  },
  {
   "cell_type": "code",
   "execution_count": 12,
   "metadata": {},
   "outputs": [
    {
     "output_type": "execute_result",
     "data": {
      "text/plain": "[0.28768207245178085,\n 0.28768207245178085,\n 0.0,\n 0.28768207245178085,\n 0.6931471805599453,\n 0.6931471805599453,\n 0.6931471805599453]"
     },
     "metadata": {},
     "execution_count": 12
    }
   ],
   "source": [
    "# IDF (Inverse Document Frequency): ある単語を含む文章がどれくらいあるか。出てこないほど値は大きくなる。すべてに出てくるなら0になる\n",
    "# ここでは各単語(unique_words)ごとの IDF を調べる\n",
    "from math import log\n",
    "\n",
    "num_of_sentences = len(sentences) # 文章の個数\n",
    "\n",
    "idf = []\n",
    "for i in range(len(unique_words)):\n",
    "    count = 0\n",
    "    for bow in bow_list:\n",
    "        if bow[i] == 1:\n",
    "            count += 1\n",
    "    idf.append(log((num_of_sentences + 1) / (count + 1))) # 0除算にならないように分母分子に1を足している\n",
    "\n",
    "idf"
   ]
  },
  {
   "cell_type": "code",
   "execution_count": 13,
   "metadata": {},
   "outputs": [
    {
     "output_type": "execute_result",
     "data": {
      "text/plain": "[0.0,\n 0.0,\n 0.3333333333333333,\n 0.42922735748392693,\n 0.5643823935199818,\n 0.0,\n 0.0]"
     },
     "metadata": {},
     "execution_count": 13
    }
   ],
   "source": [
    "bow = bow_list[1] # 「コーヒーを飲む」の文章\n",
    "# ['おいしい', 'ビール', 'を', '飲む', 'コーヒー', 'クラフト', '買う']\n",
    "# [0, 0, 1, 1, 1, 0, 0]\n",
    "num_of_words = sum(bow)\n",
    "\n",
    "tfidf = []\n",
    "for i, value in enumerate(bow):\n",
    "    tf = value / num_of_words\n",
    "    tfidf.append(tf * (idf[i] + 1))\n",
    "\n",
    "tfidf # 「コーヒー」が特徴的なのでもっとも高いスコアになる"
   ]
  },
  {
   "cell_type": "code",
   "execution_count": null,
   "metadata": {},
   "outputs": [],
   "source": []
  }
 ]
}